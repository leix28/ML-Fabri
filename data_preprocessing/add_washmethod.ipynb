{
 "cells": [
  {
   "cell_type": "code",
   "execution_count": 1,
   "metadata": {
    "collapsed": true
   },
   "outputs": [],
   "source": [
    "import pandas as pd\n",
    "import numpy as np"
   ]
  },
  {
   "cell_type": "code",
   "execution_count": 17,
   "metadata": {},
   "outputs": [
    {
     "name": "stdout",
     "output_type": "stream",
     "text": [
      "\n"
     ]
    }
   ],
   "source": [
    "def addWashMethod(fname, wash_map):\n",
    "    fout = open(fname.split('.')[0]+'_multi.txt', 'w')\n",
    "    with open(fname, 'r') as f:\n",
    "        for line in f:\n",
    "            fields = line.strip().split()\n",
    "            fields.append(str(wash_map[int(fields[1])]))\n",
    "            fout.write(' '.join(fields))\n",
    "            fout.write('\\n')\n",
    "    fout.close()"
   ]
  },
  {
   "cell_type": "code",
   "execution_count": 19,
   "metadata": {
    "collapsed": true
   },
   "outputs": [],
   "source": [
    "wash_map = {}\n",
    "wash_map[0] = 0 # machine cold\n",
    "wash_map[1] = 1 # machine warm\n",
    "wash_map[2] = 2 # machine cold gentle\n",
    "wash_map[3] = 0 # machine cold\n",
    "wash_map[4] = 1 # machine warm\n",
    "wash_map[5] = 0 # machine cold\n",
    "wash_map[6] = 2 # machine cold gentle\n",
    "wash_map[7] = 0 # machine cold\n",
    "wash_map[8] = 0 # machine cold\n",
    "wash_map[9] = 0 # machine cold\n",
    "wash_map[10] = 3 # dry\n",
    "wash_map[11] = 2 # machine cold gentle\n",
    "wash_map[12] = 3 # dry\n",
    "wash_map[13] = 4 # hand cold"
   ]
  },
  {
   "cell_type": "code",
   "execution_count": 21,
   "metadata": {},
   "outputs": [],
   "source": [
    "addWashMethod('/Users/YW/ML-Fabri/data/train.txt', wash_map)\n",
    "addWashMethod('/Users/YW/ML-Fabri/data/val.txt', wash_map)\n",
    "addWashMethod('/Users/YW/ML-Fabri/data/test.txt', wash_map)\n",
    "addWashMethod('/Users/YW/ML-Fabri/data_preprocessing/material_dataset.txt', wash_map)"
   ]
  },
  {
   "cell_type": "code",
   "execution_count": null,
   "metadata": {
    "collapsed": true
   },
   "outputs": [],
   "source": []
  }
 ],
 "metadata": {
  "kernelspec": {
   "display_name": "Python 2",
   "language": "python",
   "name": "python2"
  },
  "language_info": {
   "codemirror_mode": {
    "name": "ipython",
    "version": 2
   },
   "file_extension": ".py",
   "mimetype": "text/x-python",
   "name": "python",
   "nbconvert_exporter": "python",
   "pygments_lexer": "ipython2",
   "version": "2.7.10"
  }
 },
 "nbformat": 4,
 "nbformat_minor": 2
}
